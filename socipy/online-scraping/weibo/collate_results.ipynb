{
 "cells": [
  {
   "cell_type": "code",
   "execution_count": 10,
   "metadata": {},
   "outputs": [],
   "source": [
    "import os\n",
    "import pandas as pd"
   ]
  },
  {
   "cell_type": "code",
   "execution_count": 13,
   "metadata": {},
   "outputs": [
    {
     "name": "stdout",
     "output_type": "stream",
     "text": [
      "<class 'pandas.core.frame.DataFrame'>\n",
      "Int64Index: 2488 entries, 0 to 2795\n",
      "Data columns (total 14 columns):\n",
      " #   Column              Non-Null Count  Dtype \n",
      "---  ------              --------------  ----- \n",
      " 0   wid                 2488 non-null   object\n",
      " 1   user_name           2488 non-null   object\n",
      " 2   user_id             2488 non-null   object\n",
      " 3   user_v_type         2488 non-null   object\n",
      " 4   user_v_reason       1043 non-null   object\n",
      " 5   user_followers_cnt  2488 non-null   object\n",
      " 6   user_description    2167 non-null   object\n",
      " 7   post_location       2488 non-null   object\n",
      " 8   publish_time        2488 non-null   object\n",
      " 9   text                2488 non-null   object\n",
      " 10  like_count          2488 non-null   object\n",
      " 11  comment_count       2488 non-null   object\n",
      " 12  forward_count       2488 non-null   object\n",
      " 13  keyword             2488 non-null   object\n",
      "dtypes: object(14)\n",
      "memory usage: 291.6+ KB\n"
     ]
    }
   ],
   "source": [
    "files = os.listdir(os.curdir)\n",
    "df = pd.read_csv('./动态清零.csv')\n",
    "df['keyword'] = '动态清零'\n",
    "\n",
    "for file in files:\n",
    "    if file != '动态清零.csv' and file.endswith('csv') and not file.startswith('俄'):\n",
    "        keyword = file[:-4]\n",
    "        df_tmp = pd.read_csv(file)\n",
    "        df_tmp['keyword'] = keyword\n",
    "\n",
    "        df = pd.concat([df, df_tmp], axis=0).reset_index(drop=True)\n",
    "\n",
    "df = df.drop_duplicates(subset=df.columns[:-1])\n",
    "df.info()"
   ]
  },
  {
   "cell_type": "code",
   "execution_count": 14,
   "metadata": {},
   "outputs": [],
   "source": [
    "df.to_excel('zero-covid-policy.xlsx',index=False)"
   ]
  },
  {
   "cell_type": "code",
   "execution_count": 7,
   "metadata": {},
   "outputs": [
    {
     "name": "stdout",
     "output_type": "stream",
     "text": [
      "<class 'pandas.core.frame.DataFrame'>\n",
      "Int64Index: 826 entries, 0 to 971\n",
      "Data columns (total 13 columns):\n",
      " #   Column              Non-Null Count  Dtype \n",
      "---  ------              --------------  ----- \n",
      " 0   wid                 826 non-null    int64 \n",
      " 1   user_name           826 non-null    object\n",
      " 2   user_id             826 non-null    int64 \n",
      " 3   user_v_type         826 non-null    int64 \n",
      " 4   user_v_reason       607 non-null    object\n",
      " 5   user_followers_cnt  826 non-null    object\n",
      " 6   user_description    459 non-null    object\n",
      " 7   post_location       826 non-null    object\n",
      " 8   publish_time        826 non-null    object\n",
      " 9   text                826 non-null    object\n",
      " 10  like_count          826 non-null    int64 \n",
      " 11  comment_count       826 non-null    int64 \n",
      " 12  forward_count       826 non-null    int64 \n",
      "dtypes: int64(6), object(7)\n",
      "memory usage: 90.3+ KB\n"
     ]
    }
   ],
   "source": [
    "import os\n",
    "import pandas as pd\n",
    "\n",
    "files = os.listdir(os.curdir)\n",
    "df = pd.DataFrame()\n",
    "\n",
    "for file in files:\n",
    "    if file.startswith('俄'):\n",
    "        df_tmp = pd.read_csv(file)\n",
    "        df = pd.concat([df, df_tmp], axis=0)\n",
    "\n",
    "df = df.drop_duplicates()\n",
    "df.info()"
   ]
  },
  {
   "cell_type": "code",
   "execution_count": 5,
   "metadata": {},
   "outputs": [],
   "source": [
    "df.to_excel('russian_ukraine_war.xlsx', index=False)"
   ]
  }
 ],
 "metadata": {
  "kernelspec": {
   "display_name": "Python 3.9.5 ('base')",
   "language": "python",
   "name": "python3"
  },
  "language_info": {
   "codemirror_mode": {
    "name": "ipython",
    "version": 3
   },
   "file_extension": ".py",
   "mimetype": "text/x-python",
   "name": "python",
   "nbconvert_exporter": "python",
   "pygments_lexer": "ipython3",
   "version": "3.9.5 (default, May 18 2021, 14:42:02) [MSC v.1916 64 bit (AMD64)]"
  },
  "orig_nbformat": 4,
  "vscode": {
   "interpreter": {
    "hash": "e810d8ff8d8fb49a4d05e9dd37496184820afd06c03bbd473cadce4e5bdfbd59"
   }
  }
 },
 "nbformat": 4,
 "nbformat_minor": 2
}
